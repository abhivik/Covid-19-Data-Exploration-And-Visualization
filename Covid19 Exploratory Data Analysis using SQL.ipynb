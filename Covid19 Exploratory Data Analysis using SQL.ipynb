{
 "cells": [
  {
   "cell_type": "markdown",
   "id": "7c02ff31",
   "metadata": {},
   "source": [
    "# Covid19 Exploratory Data Analysis"
   ]
  },
  {
   "cell_type": "markdown",
   "id": "6e12284c",
   "metadata": {},
   "source": [
    "#### Importing the required libraries "
   ]
  },
  {
   "cell_type": "code",
   "execution_count": 3,
   "id": "ec273b9d",
   "metadata": {},
   "outputs": [],
   "source": [
    "import pandas as pd\n",
    "from pandasql import sqldf"
   ]
  },
  {
   "cell_type": "markdown",
   "id": "62a9a988",
   "metadata": {},
   "source": [
    "#### Importing files. Since the files are big, \"low_memory = False\" is used."
   ]
  },
  {
   "cell_type": "code",
   "execution_count": 7,
   "id": "6ab47277",
   "metadata": {},
   "outputs": [],
   "source": [
    "covid_deaths = pd.read_csv(\"CovidDeaths.csv\", low_memory = False)\n",
    "covid_vaccinations = pd.read_csv(\"CovidVaccinations.csv\", low_memory = False)"
   ]
  },
  {
   "cell_type": "markdown",
   "id": "fdff7622",
   "metadata": {},
   "source": [
    "#### Initialize the pandasql environment"
   ]
  },
  {
   "cell_type": "code",
   "execution_count": 12,
   "id": "05c1fb89",
   "metadata": {},
   "outputs": [
    {
     "name": "stdout",
     "output_type": "stream",
     "text": [
      "Query 1 Result:\n",
      "   COUNT(*)\n",
      "0    362259\n"
     ]
    }
   ],
   "source": [
    "pysqldf = sqldf('SELECT COUNT(*) FROM covid_deaths;', globals())\n",
    "result1 = pysqldf\n",
    "print(\"Query 1 Result:\")\n",
    "print(result1)"
   ]
  },
  {
   "cell_type": "code",
   "execution_count": 15,
   "id": "ecb01abd",
   "metadata": {},
   "outputs": [
    {
     "name": "stdout",
     "output_type": "stream",
     "text": [
      "\n",
      "Query 2 Result:\n",
      "       iso_code continent     location      date  population  total_cases  \\\n",
      "0           AFG      Asia  Afghanistan  01-01-21    41128772      52513.0   \n",
      "1           AFG      Asia  Afghanistan  01-01-22    41128772     158059.0   \n",
      "2           AFG      Asia  Afghanistan  01-01-23    41128772     207579.0   \n",
      "3           AFG      Asia  Afghanistan  01-02-20    41128772          NaN   \n",
      "4           AFG      Asia  Afghanistan  01-02-21    41128772      55059.0   \n",
      "...         ...       ...          ...       ...         ...          ...   \n",
      "344990      ZWE    Africa     Zimbabwe  31-10-22    16320539     258169.0   \n",
      "344991      ZWE    Africa     Zimbabwe  31-10-23    16320539     265880.0   \n",
      "344992      ZWE    Africa     Zimbabwe  31-12-20    16320539      13625.0   \n",
      "344993      ZWE    Africa     Zimbabwe  31-12-21    16320539     211728.0   \n",
      "344994      ZWE    Africa     Zimbabwe  31-12-22    16320539     260100.0   \n",
      "\n",
      "        new_cases  new_cases_smoothed  total_deaths  new_deaths  ...  \\\n",
      "0           183.0             131.143        2201.0        12.0  ...   \n",
      "1             0.0              24.571        7356.0         0.0  ...   \n",
      "2            25.0              36.714        7849.0         0.0  ...   \n",
      "3             0.0               0.000           NaN         0.0  ...   \n",
      "4            36.0              55.286        2404.0         4.0  ...   \n",
      "...           ...                 ...           ...         ...  ...   \n",
      "344990      132.0              18.857        5610.0         0.0  ...   \n",
      "344991        0.0               4.714        5722.0         0.0  ...   \n",
      "344992      300.0             138.429         360.0         1.0  ...   \n",
      "344993     2073.0            1483.429        4997.0        30.0  ...   \n",
      "344994       41.0              25.714        5637.0         1.0  ...   \n",
      "\n",
      "        Unnamed: 57  Unnamed: 58  Unnamed: 59  Unnamed: 60  Unnamed: 61  \\\n",
      "0               NaN          NaN          NaN          NaN          NaN   \n",
      "1               NaN          NaN          NaN          NaN          NaN   \n",
      "2               NaN          NaN          NaN          NaN          NaN   \n",
      "3               NaN          NaN          NaN          NaN          NaN   \n",
      "4               NaN          NaN          NaN          NaN          NaN   \n",
      "...             ...          ...          ...          ...          ...   \n",
      "344990          1.6         30.7       36.791          1.7        61.49   \n",
      "344991          1.6         30.7       36.791          1.7        61.49   \n",
      "344992          1.6         30.7       36.791          1.7        61.49   \n",
      "344993          1.6         30.7       36.791          1.7        61.49   \n",
      "344994          1.6         30.7       36.791          1.7        61.49   \n",
      "\n",
      "        Unnamed: 62  Unnamed: 63  Unnamed: 64  Unnamed: 65  Unnamed: 66  \n",
      "0               NaN          NaN          NaN          NaN          NaN  \n",
      "1               NaN          NaN          NaN          NaN          NaN  \n",
      "2               NaN          NaN          NaN          NaN          NaN  \n",
      "3               NaN          NaN          NaN          NaN          NaN  \n",
      "4               NaN          NaN          NaN          NaN          NaN  \n",
      "...             ...          ...          ...          ...          ...  \n",
      "344990        0.571          NaN          NaN          NaN          NaN  \n",
      "344991        0.571          NaN          NaN          NaN          NaN  \n",
      "344992        0.571          NaN          NaN          NaN          NaN  \n",
      "344993        0.571          NaN          NaN          NaN          NaN  \n",
      "344994        0.571          NaN          NaN          NaN          NaN  \n",
      "\n",
      "[344995 rows x 67 columns]\n"
     ]
    }
   ],
   "source": [
    "# Query 2\n",
    "query2 = '''\n",
    "    SELECT * FROM covid_deaths\n",
    "    WHERE continent IS NOT NULL \n",
    "    ORDER BY 3, 4;\n",
    "'''\n",
    "\n",
    "result2 = sqldf(query2, globals())\n",
    "print(\"\\nQuery 2 Result:\")\n",
    "print(result2)"
   ]
  },
  {
   "cell_type": "code",
   "execution_count": 19,
   "id": "5091d81e",
   "metadata": {},
   "outputs": [
    {
     "name": "stdout",
     "output_type": "stream",
     "text": [
      "\n",
      "Query 3 Result:\n",
      "       continent     location      date  population  new_vaccinations  \\\n",
      "0           Asia  Afghanistan  01-01-21    41128772               NaN   \n",
      "1           Asia  Afghanistan  01-01-22    41128772               NaN   \n",
      "2           Asia  Afghanistan  01-01-23    41128772               NaN   \n",
      "3           Asia  Afghanistan  01-02-20    41128772               NaN   \n",
      "4           Asia  Afghanistan  01-02-21    41128772               NaN   \n",
      "...          ...          ...       ...         ...               ...   \n",
      "344990    Africa     Zimbabwe  31-10-22    16320539               NaN   \n",
      "344991    Africa     Zimbabwe  31-10-23    16320539               NaN   \n",
      "344992    Africa     Zimbabwe  31-12-20    16320539               NaN   \n",
      "344993    Africa     Zimbabwe  31-12-21    16320539               NaN   \n",
      "344994    Africa     Zimbabwe  31-12-22    16320539               NaN   \n",
      "\n",
      "        RollingPeopleVaccinated  VaccinationPercentage  \n",
      "0                           NaN                    NaN  \n",
      "1                           NaN                    NaN  \n",
      "2                           NaN                    NaN  \n",
      "3                           NaN                    NaN  \n",
      "4                           NaN                    NaN  \n",
      "...                         ...                    ...  \n",
      "344990               10801392.0                    0.0  \n",
      "344991               10801392.0                    0.0  \n",
      "344992               10801392.0                    0.0  \n",
      "344993               10801392.0                    0.0  \n",
      "344994               10801392.0                    0.0  \n",
      "\n",
      "[344995 rows x 7 columns]\n"
     ]
    }
   ],
   "source": [
    "# Query 3\n",
    "query3 = '''\n",
    "    WITH PopvsVac AS (\n",
    "        SELECT\n",
    "            dea.continent,\n",
    "            dea.location,\n",
    "            dea.date,\n",
    "            dea.population,\n",
    "            vac.new_vaccinations,\n",
    "            SUM(CAST(vac.new_vaccinations AS INTEGER)) OVER (PARTITION BY dea.location ORDER BY dea.location, dea.date) as RollingPeopleVaccinated\n",
    "        FROM\n",
    "            covid_deaths dea\n",
    "            JOIN covid_vaccinations vac ON dea.location = vac.location AND dea.date = vac.date\n",
    "        WHERE\n",
    "            dea.continent IS NOT NULL\n",
    "    )\n",
    "    SELECT\n",
    "        *,\n",
    "        (RollingPeopleVaccinated / Population) * 100 as VaccinationPercentage\n",
    "    FROM\n",
    "        PopvsVac;\n",
    "'''\n",
    "\n",
    "result3 = sqldf(query3, globals())\n",
    "print(\"\\nQuery 3 Result:\")\n",
    "print(result3)\n"
   ]
  },
  {
   "cell_type": "code",
   "execution_count": 21,
   "id": "88b9fcf8",
   "metadata": {},
   "outputs": [
    {
     "name": "stdout",
     "output_type": "stream",
     "text": [
      "\n",
      "Query 4 Result:\n",
      "              location  TotalDeathCount\n",
      "0          High income        2917813.0\n",
      "1  Upper middle income        2664957.0\n",
      "2               Europe        2085294.0\n",
      "3                 Asia        1635885.0\n",
      "4        North America        1606914.0\n",
      "5        South America        1357606.0\n",
      "6  Lower middle income        1340820.0\n",
      "7               Africa         259047.0\n",
      "8           Low income          48014.0\n",
      "9              Oceania          30814.0\n"
     ]
    }
   ],
   "source": [
    "# Query 4\n",
    "query4 = '''\n",
    "    SELECT\n",
    "        location,\n",
    "        SUM(new_deaths) as TotalDeathCount\n",
    "    FROM\n",
    "        covid_deaths\n",
    "    WHERE\n",
    "        continent IS NULL\n",
    "        AND location NOT IN ('World', 'European Union', 'International')\n",
    "    GROUP BY\n",
    "        location\n",
    "    ORDER BY\n",
    "        TotalDeathCount DESC;\n",
    "'''\n",
    "\n",
    "result4 = sqldf(query4, globals())\n",
    "print(\"\\nQuery 4 Result:\")\n",
    "print(result4)\n",
    "result4.to_csv(\"Tableau Table 2.csv\", index=False)"
   ]
  },
  {
   "cell_type": "code",
   "execution_count": null,
   "id": "5bd88f6b",
   "metadata": {},
   "outputs": [],
   "source": []
  }
 ],
 "metadata": {
  "kernelspec": {
   "display_name": "Python 3 (ipykernel)",
   "language": "python",
   "name": "python3"
  },
  "language_info": {
   "codemirror_mode": {
    "name": "ipython",
    "version": 3
   },
   "file_extension": ".py",
   "mimetype": "text/x-python",
   "name": "python",
   "nbconvert_exporter": "python",
   "pygments_lexer": "ipython3",
   "version": "3.11.5"
  }
 },
 "nbformat": 4,
 "nbformat_minor": 5
}
